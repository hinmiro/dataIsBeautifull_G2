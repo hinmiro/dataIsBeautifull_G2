{
 "cells": [
  {
   "metadata": {},
   "cell_type": "markdown",
   "source": [
    "# Assignment: Decision trees and random forests\n",
    "\n",
    "### Objectives\n",
    "\n",
    "The objectives of this assignment are:\n",
    "\n",
    "to learn to use decision trees to build a transparent, human-readable predictive model.\n",
    "to learn to use random forests for improved predictive performance.\n",
    "Setup\n",
    "In the assignment, use the Phishing dataset that is available at the UCI Machine Learning Repository: Phishing Websites Data Set. The target variable Result indicates whether a website is a phishing site or not.\n",
    "\n",
    "Note: As the interpretation of the -1’s and 1’s in the Result column seems to be missing from the document, it may be helpful to know that a ‘1‘ corresponds to a phishing site and a ‘-1’ to a legitimate site.\n",
    "\n",
    "Hint: Click the Download in Python button for quick access to the dataset. In addition, click the Download button to gain access to the dataset description.\n",
    "\n",
    "Task\n",
    "Your goal is to find out whether it is possible to reliably predict whether a website is a phishing site or not based on the easily obtainable information about the website. Based on the outcome, it may become possible to construct an automated system that warns users when they are about to visit a phishing website.\n",
    "\n",
    "Part 1: Decision tree\n",
    "Your initial goal is to construct a small yet useful decision tree that predicts whether a website is a phishing site or not.\n",
    "\n",
    "The outcome should contain the following:\n",
    "\n",
    "An image of the final decision tree.\n",
    "Evaluation metrics for the decision tree.\n",
    "Written instructions for an internet analyst to manually make the decision of whether the website is likely to be a phishing site or not. The instructions must match one-to-one with your decision tree, and be written in a way that is understandable to an engineer who is aware of the basics of internet technologies.\n",
    "Part 2: Random forest\n",
    "As the ultimate goal is to build an automated system, you don't have to stick to a single, relatively simple decision tree.\n",
    "\n",
    "Try to tweak the performance of the decision tree by replacing it with a random forest. You may also try to tune the hyperparameters of the random forest to improve the performance.\n",
    "\n",
    "Be sure to include the validation results in your report.\n",
    "\n",
    "In real life, when you tune the hyperparameters based on the validation results, you should have yet another data set that is not used for tuning the hyperparameters, but applied only once after the tuning of the hyperparameters to obtain the final performance estimate of the tuned model. That is, there should be three sets: training, validation, and test sets. On this course, you may skip the need for the third set.\n",
    "\n",
    "Deliverables\n",
    "Submit a GitHub permalink that points to the Jupyter notebook as instructed in Oma. The submitted notebook must contain the problem analysis written in accordance with the CRISP-DM process model, complete with Markdown blocks and comments that clearly explain what has been done."
   ],
   "id": "7872ad74c1e591cd"
  },
  {
   "cell_type": "code",
   "execution_count": null,
   "id": "initial_id",
   "metadata": {
    "collapsed": true
   },
   "outputs": [],
   "source": [
    "from ucimlrepo import fetch_ucirepo\n",
    "\n",
    "# fetch dataset\n",
    "phishing_websites = fetch_ucirepo(id=327)\n",
    "\n",
    "# data (as pandas dataframes)\n",
    "X = phishing_websites.data.features\n",
    "y = phishing_websites.data.targets\n",
    "\n",
    "# metadata\n",
    "print(phishing_websites.metadata)\n",
    "\n",
    "# variable information\n",
    "print(phishing_websites.variables)\n"
   ]
  }
 ],
 "metadata": {
  "kernelspec": {
   "display_name": "Python 3",
   "language": "python",
   "name": "python3"
  },
  "language_info": {
   "codemirror_mode": {
    "name": "ipython",
    "version": 2
   },
   "file_extension": ".py",
   "mimetype": "text/x-python",
   "name": "python",
   "nbconvert_exporter": "python",
   "pygments_lexer": "ipython2",
   "version": "2.7.6"
  }
 },
 "nbformat": 4,
 "nbformat_minor": 5
}
