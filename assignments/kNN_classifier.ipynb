{
 "cells": [
  {
   "cell_type": "markdown",
   "source": [
    "# Assignment: kNN classifier\n",
    "\n",
    "In this assignment we needed to import breast cancer dataset from [https://archive.ics.uci.edu/dataset/17/breast+cancer+wisconsin+diagnostic](https://archive.ics.uci.edu/dataset/17/breast+cancer+wisconsin+diagnostic) and build classifier using knn algorithm to predict binary valued target \"Diagnosis\" in the data. We also needed to measure performance of the classifier and report it.\n",
    "\n",
    "- First we investigated dataset to be sure what we are dealing with.\n",
    "\n",
    "- We applied standardization to numerical values.\n",
    "\n",
    "- We decided to use split valuation and extracted 30 present of the data to be used in validation.\n",
    "\n",
    "- We trained classifier to predict cancer diagnosis malignant / benign. And tried different hyperparameters.\n",
    "\n",
    "- We tested the performance of the classifier and displayed confusion matrix with common evaluation metrics.\n",
    "\n"
   ],
   "metadata": {
    "collapsed": false
   }
  },
  {
   "cell_type": "code",
   "source": [
    "from sklearn.metrics import accuracy_score, recall_score\n",
    "from sklearn.model_selection import train_test_split\n",
    "from sklearn.neighbors import KNeighborsClassifier\n",
    "import pandas as pd\n",
    "from ucimlrepo import fetch_ucirepo\n",
    "from sklearn.preprocessing import StandardScaler\n",
    "from sklearn.metrics import confusion_matrix, ConfusionMatrixDisplay\n",
    "\n",
    "# fetch dataset\n",
    "breast_cancer_wisconsin_diagnostic = fetch_ucirepo(id=17)\n",
    "\n",
    "# data (as pandas dataframes)\n",
    "X = breast_cancer_wisconsin_diagnostic.data.features\n",
    "y = breast_cancer_wisconsin_diagnostic.data.targets\n",
    "\n",
    "# Standardize data\n",
    "scaler = StandardScaler()\n",
    "X_scaled = pd.DataFrame(scaler.fit_transform(X), columns=X.columns)\n",
    "\n",
    "# Extract part of the data for testing\n",
    "X_train, X_test, y_train, y_test = train_test_split(X_scaled, y.Diagnosis, test_size=0.3, random_state=123)\n",
    "\n",
    "# Create a kNN classifier\n",
    "# n_neighbors parameter specifies the number of neighbors to use (k)\n",
    "knn = KNeighborsClassifier(n_neighbors=3)\n",
    "\n",
    "# Train the kNN classifier on the training data\n",
    "knn.fit(X_train, y_train)\n",
    "\n",
    "# Use the trained classifier to predict labels for the test set\n",
    "y_pred_test = knn.predict(X_test)\n",
    "\n",
    "# Calculate and print the accuracy of the classifier on the test set\n",
    "accuracy_test = accuracy_score(y_test, y_pred_test)\n",
    "print(f\"Accuracy of kNN classifier on the test set: {accuracy_test:.3f}\")"
   ],
   "metadata": {
    "collapsed": false,
    "ExecuteTime": {
     "end_time": "2025-01-24T08:47:53.237165Z",
     "start_time": "2025-01-24T08:47:51.069583Z"
    }
   },
   "outputs": [
    {
     "name": "stdout",
     "output_type": "stream",
     "text": [
      "Accuracy of kNN classifier on the test set: 0.982\n"
     ]
    }
   ],
   "execution_count": 34
  },
  {
   "metadata": {},
   "cell_type": "markdown",
   "source": [
    "### Findings\n",
    "\n",
    "k = 1:\n",
    "- Accuracy of kNN classifier on the test set: 0.959\n",
    "\n",
    "k = 3:\n",
    "- Accuracy of kNN classifier on the test set: 0.982\n",
    "\n",
    "k = 5:\n",
    "- Accuracy of kNN classifier on the test set: 0.977"
   ]
  },
  {
   "cell_type": "code",
   "source": [
    "# Now, for the confusion matrix and plot\n",
    "y_pred = knn.predict(X_scaled)  # Use the full scaled data to make predictions\n",
    "\n",
    "# Calculate confusion matrix\n",
    "cm = confusion_matrix(y, y_pred)\n",
    "\n",
    "TP = cm[0, 0]\n",
    "FN = cm[0, 1]\n",
    "FP = cm[1, 0]\n",
    "TN = cm[1, 1]\n",
    "\n",
    "# Create a confusion matrix display\n",
    "cmd = ConfusionMatrixDisplay(cm, display_labels=['Malignant', 'Benign'])\n",
    "\n",
    "# Plot confusion matrix\n",
    "cmd.plot(cmap='Blues')"
   ],
   "metadata": {
    "collapsed": false,
    "ExecuteTime": {
     "end_time": "2025-01-24T08:47:53.455226Z",
     "start_time": "2025-01-24T08:47:53.242611Z"
    }
   },
   "outputs": [
    {
     "data": {
      "text/plain": [
       "<sklearn.metrics._plot.confusion_matrix.ConfusionMatrixDisplay at 0x22c31cd2b70>"
      ]
     },
     "execution_count": 35,
     "metadata": {},
     "output_type": "execute_result"
    },
    {
     "data": {
      "text/plain": [
       "<Figure size 640x480 with 2 Axes>"
      ],
      "image/png": "[encoded data removed]"
     },
     "metadata": {},
     "output_type": "display_data"
    }
   ],
   "execution_count": 35
  },
  {
   "metadata": {},
   "cell_type": "markdown",
   "source": "### Evaluation metrics"
  },
  {
   "metadata": {},
   "cell_type": "markdown",
   "source": [
    "### Accuracy\n",
    "\n",
    "Calculation formula for accuracy is:\n",
    "\n",
    "$$\n",
    "\\frac{TP+TN}{TP+FP+FN+TN}\n",
    "$$"
   ]
  },
  {
   "metadata": {
    "ExecuteTime": {
     "end_time": "2025-01-24T08:51:43.899446Z",
     "start_time": "2025-01-24T08:51:43.880907Z"
    }
   },
   "cell_type": "code",
   "source": [
    "# Calculation done with formula\n",
    "\n",
    "print(f\"Accuracy of model: {((TP + TN) / (TP + FP + FN + TN)) * 100:.2f}%\")"
   ],
   "outputs": [
    {
     "name": "stdout",
     "output_type": "stream",
     "text": [
      "0.98\n",
      "Accuracy of model: 98.07%\n"
     ]
    }
   ],
   "execution_count": 44
  },
  {
   "metadata": {},
   "cell_type": "markdown",
   "source": [
    "### Precision\n",
    "\n",
    "Calculation formula for precision is:\n",
    "\n",
    "$$\n",
    "\\frac{TP}{TP+FP}\n",
    "$$"
   ]
  },
  {
   "metadata": {
    "ExecuteTime": {
     "end_time": "2025-01-24T08:47:53.699305Z",
     "start_time": "2025-01-24T08:47:53.671167Z"
    }
   },
   "cell_type": "code",
   "source": [
    "from sklearn.metrics import precision_score\n",
    "\n",
    "# Calculation done for both class by imported precision function from sklearn metrics\n",
    "\n",
    "precision_malignant = precision_score(y, y_pred, pos_label='M')\n",
    "precision_benign = precision_score(y, y_pred, pos_label='B')\n",
    "\n",
    "print(f\"Precision of malignant: {precision_malignant * 100:.2f}%\\n\")\n",
    "print(f\"Precision of benign: {precision_benign * 100:.2f}%\")"
   ],
   "outputs": [
    {
     "name": "stdout",
     "output_type": "stream",
     "text": [
      "Precision of malignant: 98.55%\n",
      "Precision of benign: 97.79%\n"
     ]
    }
   ],
   "execution_count": 38
  },
  {
   "metadata": {},
   "cell_type": "markdown",
   "source": [
    "### Recall\n",
    "\n",
    "Calculation formula for recall is:\n",
    "\n",
    "$$\n",
    "\\frac{TP}{TP+FN}\n",
    "$$"
   ]
  },
  {
   "metadata": {
    "ExecuteTime": {
     "end_time": "2025-01-24T08:49:13.923102Z",
     "start_time": "2025-01-24T08:49:13.888719Z"
    }
   },
   "cell_type": "code",
   "source": [
    "# Calculation done for both malignant and benign with imported recall_score function\n",
    "\n",
    "m_recall = recall_score(y, y_pred, pos_label=\"M\")\n",
    "b_recall = recall_score(y, y_pred, pos_label=\"B\")\n",
    "print(f\"Recall of malignant: {m_recall * 100:.2f}%\\n\")\n",
    "print(f\"Recall of benign: {b_recall * 100:.2f}%\")\n",
    "\n"
   ],
   "outputs": [
    {
     "name": "stdout",
     "output_type": "stream",
     "text": [
      "Recall of malignant: 96.23%\n",
      "\n",
      "Recall of benign: 99.16%\n"
     ]
    }
   ],
   "execution_count": 42
  }
 ],
 "metadata": {
  "kernelspec": {
   "display_name": "Python 3",
   "language": "python",
   "name": "python3"
  },
  "language_info": {
   "codemirror_mode": {
    "name": "ipython",
    "version": 2
   },
   "file_extension": ".py",
   "mimetype": "text/x-python",
   "name": "python",
   "nbconvert_exporter": "python",
   "pygments_lexer": "ipython2",
   "version": "2.7.6"
  }
 },
 "nbformat": 4,
 "nbformat_minor": 0
}
