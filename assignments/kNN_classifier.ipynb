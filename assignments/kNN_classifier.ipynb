{
 "cells": [
  {
   "cell_type": "markdown",
   "source": [
    "# Assignment: kNN classifier\n",
    "\n",
    "## Objectives\n",
    "\n",
    "The objectives of this assignment are:\n",
    "1.\tto learn to use the k-nearest neighbors algorithm for classification problems\n",
    "2.\tto learn to evaluate the performance of a classifier\n",
    "\n",
    "## Setup\n",
    "\n",
    "In the assignment, use the breast cancer dataset that is available at [https://archive.ics.uci.edu/dataset/17/breast+cancer+wisconsin+diagnostic](https://archive.ics.uci.edu/dataset/17/breast+cancer+wisconsin+diagnostic).\n",
    "\n",
    "## Task\n",
    "\n",
    "Fetch the diagnostic Wisconsin breast cancer dataset from the above link and study the associated description. The problem task consists of building a classifier using the kNN algorithm to predict the binary-valued target variable \"Diagnosis\" in the data. Also, the performance of the classifier must be investigated and reported.\n",
    "\n",
    "Prepare a Jupyter notebook containing a full account of the problem treatment, conducted according to the CRISP-DM process model. The notebook should pay attention to the following issues:\n",
    "\n",
    "- Investigate the contents of the dataset and include a brief description of its variables.\n",
    "\n",
    "- Apply standardization to the numerical values of the input variables.\n",
    "\n",
    "- Extract part of the data for testing in accordance with the hold-out validation technique.\n",
    "\n",
    "- Train a binary classifier for predicting the cancer diagnosis (malignant / benign). Experiment with a few choices of the hyperparameter k, and report the findings.\n",
    "\n",
    "- Test the performance of the classifier and present the associated confusion matrix together with the most common evaluation metrics (accuracy, precision and recall).\n",
    "\n",
    "Construct your notebook to include sections for each of the six separate stages in the CRISP-DM model, with appropriate contents. Remember to draw conclusions and interpret your findings.\n",
    "\n",
    "\n",
    "\n",
    "## Deliverables\n",
    "\n",
    "Submit a GitHub permalink that points to the Jupyter notebook as instructed in Oma. The submitted notebook must contain the problem analysis written in accordance with the CRISP-DM process model, complete with Markdown blocks and comments that clearly explain what has been done."
   ],
   "metadata": {
    "collapsed": false
   }
  },
  {
   "cell_type": "code",
   "source": [
    "from sklearn.metrics import accuracy_score\n",
    "from sklearn.model_selection import train_test_split\n",
    "from sklearn.neighbors import KNeighborsClassifier\n",
    "import pandas as pd\n",
    "from ucimlrepo import fetch_ucirepo\n",
    "from sklearn.preprocessing import StandardScaler\n",
    "from sklearn.metrics import confusion_matrix, ConfusionMatrixDisplay\n",
    "\n",
    "# fetch dataset\n",
    "breast_cancer_wisconsin_diagnostic = fetch_ucirepo(id=17)\n",
    "\n",
    "# data (as pandas dataframes)\n",
    "X = breast_cancer_wisconsin_diagnostic.data.features\n",
    "y = breast_cancer_wisconsin_diagnostic.data.targets\n",
    "\n",
    "# Standardize data\n",
    "scaler = StandardScaler()\n",
    "X_scaled = pd.DataFrame(scaler.fit_transform(X), columns=X.columns)\n",
    "\n",
    "# Extract part of the data for testing\n",
    "X_train, X_test, y_train, y_test = train_test_split(X_scaled, y.Diagnosis, test_size=0.3, random_state=123)\n",
    "\n",
    "# Create a kNN classifier\n",
    "# n_neighbors parameter specifies the number of neighbors to use (k)\n",
    "knn = KNeighborsClassifier(n_neighbors=3)\n",
    "\n",
    "# Train the kNN classifier on the training data\n",
    "knn.fit(X_train, y_train)\n",
    "\n",
    "# Use the trained classifier to predict labels for the test set\n",
    "y_pred_test = knn.predict(X_test)\n",
    "\n",
    "# Calculate and print the accuracy of the classifier on the test set\n",
    "accuracy_test = accuracy_score(y_test, y_pred_test)\n",
    "print(f\"Accuracy of kNN classifier on the test set: {accuracy_test:.3f}\")"
   ],
   "metadata": {
    "collapsed": false,
    "ExecuteTime": {
     "end_time": "2025-01-21T16:01:07.147956Z",
     "start_time": "2025-01-21T16:01:04.507764Z"
    }
   },
   "outputs": [
    {
     "name": "stdout",
     "output_type": "stream",
     "text": [
      "Accuracy of kNN classifier on the test set: 0.977\n"
     ]
    }
   ],
   "execution_count": 11
  },
  {
   "metadata": {},
   "cell_type": "markdown",
   "source": [
    "### Findings\n",
    "\n",
    "k = 1:\n",
    "- Accuracy of kNN classifier on the test set: 0.959\n",
    "\n",
    "k = 3:\n",
    "- Accuracy of kNN classifier on the test set: 0.982\n",
    "\n",
    "k = 5:\n",
    "- Accuracy of kNN classifier on the test set: 0.977"
   ]
  },
  {
   "cell_type": "code",
   "source": [
    "# Now, for the confusion matrix and plot\n",
    "y_pred = knn.predict(X_scaled)  # Use the full scaled data to make predictions\n",
    "\n",
    "# Calculate confusion matrix\n",
    "cm = confusion_matrix(y, y_pred)  # Use 'y' directly\n",
    "\n",
    "# Create a confusion matrix display\n",
    "cmd = ConfusionMatrixDisplay(cm, display_labels=['Malignant', 'Benign'])\n",
    "\n",
    "# Plot confusion matrix\n",
    "cmd.plot(cmap='Blues')"
   ],
   "metadata": {
    "collapsed": false,
    "ExecuteTime": {
     "end_time": "2025-01-21T15:57:05.492568Z",
     "start_time": "2025-01-21T15:57:05.321570Z"
    }
   },
   "outputs": [
    {
     "data": {
      "text/plain": [
       "<sklearn.metrics._plot.confusion_matrix.ConfusionMatrixDisplay at 0x25dbbb34310>"
      ]
     },
     "execution_count": 8,
     "metadata": {},
     "output_type": "execute_result"
    },
    {
     "data": {
      "text/plain": [
       "<Figure size 640x480 with 2 Axes>"
      ],
      "image/png": "[encoded data removed]"
     },
     "metadata": {},
     "output_type": "display_data"
    }
   ],
   "execution_count": 8
  },
  {
   "metadata": {},
   "cell_type": "markdown",
   "source": "### Evaluation metrics"
  },
  {
   "metadata": {},
   "cell_type": "code",
   "outputs": [],
   "execution_count": null,
   "source": "# TODO: display accuracy, precision and recall"
  }
 ],
 "metadata": {
  "kernelspec": {
   "display_name": "Python 3",
   "language": "python",
   "name": "python3"
  },
  "language_info": {
   "codemirror_mode": {
    "name": "ipython",
    "version": 2
   },
   "file_extension": ".py",
   "mimetype": "text/x-python",
   "name": "python",
   "nbconvert_exporter": "python",
   "pygments_lexer": "ipython2",
   "version": "2.7.6"
  }
 },
 "nbformat": 4,
 "nbformat_minor": 0
}
