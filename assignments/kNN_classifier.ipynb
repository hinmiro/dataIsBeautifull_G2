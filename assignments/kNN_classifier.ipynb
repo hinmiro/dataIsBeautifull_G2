{
 "cells": [
  {
   "cell_type": "markdown",
   "source": [
    "# Assignment: kNN classifier\n",
    "\n",
    "## Objectives\n",
    "\n",
    "The objectives of this assignment are:\n",
    "1.\tto learn to use the k-nearest neighbors algorithm for classification problems\n",
    "2.\tto learn to evaluate the performance of a classifier\n",
    "\n",
    "## Setup\n",
    "\n",
    "In the assignment, use the breast cancer dataset that is available at [https://archive.ics.uci.edu/dataset/17/breast+cancer+wisconsin+diagnostic](https://archive.ics.uci.edu/dataset/17/breast+cancer+wisconsin+diagnostic).\n",
    "\n",
    "## Task\n",
    "\n",
    "Fetch the diagnostic Wisconsin breast cancer dataset from the above link and study the associated description. The problem task consists of building a classifier using the kNN algorithm to predict the binary-valued target variable \"Diagnosis\" in the data. Also, the performance of the classifier must be investigated and reported.\n",
    "\n",
    "Prepare a Jupyter notebook containing a full account of the problem treatment, conducted according to the CRISP-DM process model. The notebook should pay attention to the following issues:\n",
    "\n",
    "- Investigate the contents of the dataset and include a brief description of its variables.\n",
    "\n",
    "- Apply standardization to the numerical values of the input variables.\n",
    "\n",
    "- Extract part of the data for testing in accordance with the hold-out validation technique.\n",
    "\n",
    "- Train a binary classifier for predicting the cancer diagnosis (malignant / benign). Experiment with a few choices of the hyperparameter k, and report the findings.\n",
    "\n",
    "- Test the performance of the classifier and present the associated confusion matrix together with the most common evaluation metrics (accuracy, precision and recall).\n",
    "\n",
    "Construct your notebook to include sections for each of the six separate stages in the CRISP-DM model, with appropriate contents. Remember to draw conclusions and interpret your findings.\n",
    "\n",
    "\n",
    "\n",
    "## Deliverables\n",
    "\n",
    "Submit a GitHub permalink that points to the Jupyter notebook as instructed in Oma. The submitted notebook must contain the problem analysis written in accordance with the CRISP-DM process model, complete with Markdown blocks and comments that clearly explain what has been done."
   ],
   "metadata": {
    "collapsed": false
   }
  },
  {
   "cell_type": "code",
   "execution_count": 28,
   "outputs": [
    {
     "name": "stdout",
     "output_type": "stream",
     "text": [
      "Accuracy of kNN classifier on the test set: 0.982\n"
     ]
    }
   ],
   "source": [
    "import pandas as pd\n",
    "from ucimlrepo import fetch_ucirepo\n",
    "\n",
    "# fetch dataset\n",
    "breast_cancer_wisconsin_diagnostic = fetch_ucirepo(id=17)\n",
    "\n",
    "# data (as pandas dataframes)\n",
    "X = breast_cancer_wisconsin_diagnostic.data.features\n",
    "y = breast_cancer_wisconsin_diagnostic.data.targets\n",
    "\n",
    "df = pd.DataFrame(X)\n",
    "df2 = pd.DataFrame(y)\n",
    "\n",
    "\n",
    "# variable information\n",
    "print(breast_cancer_wisconsin_diagnostic.variables)"
   ],
   "metadata": {
    "collapsed": false
   }
  },
  {
   "cell_type": "code",
   "execution_count": 29,
   "outputs": [
    {
     "ename": "SyntaxError",
     "evalue": "invalid syntax (4261990873.py, line 3)",
     "output_type": "error",
     "traceback": [
      "\u001B[1;36m  Cell \u001B[1;32mIn[29], line 3\u001B[1;36m\u001B[0m\n\u001B[1;33m    k = 2:\u001B[0m\n\u001B[1;37m         ^\u001B[0m\n\u001B[1;31mSyntaxError\u001B[0m\u001B[1;31m:\u001B[0m invalid syntax\n"
     ]
    }
   ],
   "source": [],
   "metadata": {
    "collapsed": false
   }
  }
 ],
 "metadata": {
  "kernelspec": {
   "display_name": "Python 3",
   "language": "python",
   "name": "python3"
  },
  "language_info": {
   "codemirror_mode": {
    "name": "ipython",
    "version": 2
   },
   "file_extension": ".py",
   "mimetype": "text/x-python",
   "name": "python",
   "nbconvert_exporter": "python",
   "pygments_lexer": "ipython2",
   "version": "2.7.6"
  }
 },
 "nbformat": 4,
 "nbformat_minor": 0
}
