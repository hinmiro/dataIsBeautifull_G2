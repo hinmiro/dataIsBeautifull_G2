{
 "cells": [
  {
   "metadata": {
    "ExecuteTime": {
     "end_time": "2025-01-14T13:25:23.061975Z",
     "start_time": "2025-01-14T13:25:20.597868Z"
    }
   },
   "cell_type": "code",
   "source": [
    "import pandas as pd\n",
    "from ucimlrepo import fetch_ucirepo\n",
    "\n",
    "# fetch dataset\n",
    "chronic_kidney_disease = fetch_ucirepo(id=336)\n",
    "\n",
    "df = pd.read_html(chronic_kidney_disease)\n",
    "\n",
    "# data (as pandas dataframes)\n",
    "X = chronic_kidney_disease.data.features\n",
    "y = chronic_kidney_disease.data.targets\n"
   ],
   "id": "7faea60d1a9f379a",
   "outputs": [
    {
     "ename": "TypeError",
     "evalue": "'NoneType' object is not callable",
     "output_type": "error",
     "traceback": [
      "\u001B[1;31m---------------------------------------------------------------------------\u001B[0m",
      "\u001B[1;31mTypeError\u001B[0m                                 Traceback (most recent call last)",
      "Cell \u001B[1;32mIn[7], line 7\u001B[0m\n\u001B[0;32m      4\u001B[0m \u001B[38;5;66;03m# fetch dataset\u001B[39;00m\n\u001B[0;32m      5\u001B[0m chronic_kidney_disease \u001B[38;5;241m=\u001B[39m fetch_ucirepo(\u001B[38;5;28mid\u001B[39m\u001B[38;5;241m=\u001B[39m\u001B[38;5;241m336\u001B[39m)\n\u001B[1;32m----> 7\u001B[0m df \u001B[38;5;241m=\u001B[39m pd\u001B[38;5;241m.\u001B[39mread_html(chronic_kidney_disease)\n\u001B[0;32m      9\u001B[0m \u001B[38;5;66;03m# data (as pandas dataframes)\u001B[39;00m\n\u001B[0;32m     10\u001B[0m X \u001B[38;5;241m=\u001B[39m chronic_kidney_disease\u001B[38;5;241m.\u001B[39mdata\u001B[38;5;241m.\u001B[39mfeatures\n",
      "File \u001B[1;32m~\\anaconda3\\Lib\\site-packages\\pandas\\io\\html.py:1240\u001B[0m, in \u001B[0;36mread_html\u001B[1;34m(io, match, flavor, header, index_col, skiprows, attrs, parse_dates, thousands, encoding, decimal, converters, na_values, keep_default_na, displayed_only, extract_links, dtype_backend, storage_options)\u001B[0m\n\u001B[0;32m   1224\u001B[0m \u001B[38;5;28;01mif\u001B[39;00m \u001B[38;5;28misinstance\u001B[39m(io, \u001B[38;5;28mstr\u001B[39m) \u001B[38;5;129;01mand\u001B[39;00m \u001B[38;5;129;01mnot\u001B[39;00m \u001B[38;5;28many\u001B[39m(\n\u001B[0;32m   1225\u001B[0m     [\n\u001B[0;32m   1226\u001B[0m         is_file_like(io),\n\u001B[1;32m   (...)\u001B[0m\n\u001B[0;32m   1230\u001B[0m     ]\n\u001B[0;32m   1231\u001B[0m ):\n\u001B[0;32m   1232\u001B[0m     warnings\u001B[38;5;241m.\u001B[39mwarn(\n\u001B[0;32m   1233\u001B[0m         \u001B[38;5;124m\"\u001B[39m\u001B[38;5;124mPassing literal html to \u001B[39m\u001B[38;5;124m'\u001B[39m\u001B[38;5;124mread_html\u001B[39m\u001B[38;5;124m'\u001B[39m\u001B[38;5;124m is deprecated and \u001B[39m\u001B[38;5;124m\"\u001B[39m\n\u001B[0;32m   1234\u001B[0m         \u001B[38;5;124m\"\u001B[39m\u001B[38;5;124mwill be removed in a future version. To read from a \u001B[39m\u001B[38;5;124m\"\u001B[39m\n\u001B[1;32m   (...)\u001B[0m\n\u001B[0;32m   1237\u001B[0m         stacklevel\u001B[38;5;241m=\u001B[39mfind_stack_level(),\n\u001B[0;32m   1238\u001B[0m     )\n\u001B[1;32m-> 1240\u001B[0m \u001B[38;5;28;01mreturn\u001B[39;00m _parse(\n\u001B[0;32m   1241\u001B[0m     flavor\u001B[38;5;241m=\u001B[39mflavor,\n\u001B[0;32m   1242\u001B[0m     io\u001B[38;5;241m=\u001B[39mio,\n\u001B[0;32m   1243\u001B[0m     match\u001B[38;5;241m=\u001B[39mmatch,\n\u001B[0;32m   1244\u001B[0m     header\u001B[38;5;241m=\u001B[39mheader,\n\u001B[0;32m   1245\u001B[0m     index_col\u001B[38;5;241m=\u001B[39mindex_col,\n\u001B[0;32m   1246\u001B[0m     skiprows\u001B[38;5;241m=\u001B[39mskiprows,\n\u001B[0;32m   1247\u001B[0m     parse_dates\u001B[38;5;241m=\u001B[39mparse_dates,\n\u001B[0;32m   1248\u001B[0m     thousands\u001B[38;5;241m=\u001B[39mthousands,\n\u001B[0;32m   1249\u001B[0m     attrs\u001B[38;5;241m=\u001B[39mattrs,\n\u001B[0;32m   1250\u001B[0m     encoding\u001B[38;5;241m=\u001B[39mencoding,\n\u001B[0;32m   1251\u001B[0m     decimal\u001B[38;5;241m=\u001B[39mdecimal,\n\u001B[0;32m   1252\u001B[0m     converters\u001B[38;5;241m=\u001B[39mconverters,\n\u001B[0;32m   1253\u001B[0m     na_values\u001B[38;5;241m=\u001B[39mna_values,\n\u001B[0;32m   1254\u001B[0m     keep_default_na\u001B[38;5;241m=\u001B[39mkeep_default_na,\n\u001B[0;32m   1255\u001B[0m     displayed_only\u001B[38;5;241m=\u001B[39mdisplayed_only,\n\u001B[0;32m   1256\u001B[0m     extract_links\u001B[38;5;241m=\u001B[39mextract_links,\n\u001B[0;32m   1257\u001B[0m     dtype_backend\u001B[38;5;241m=\u001B[39mdtype_backend,\n\u001B[0;32m   1258\u001B[0m     storage_options\u001B[38;5;241m=\u001B[39mstorage_options,\n\u001B[0;32m   1259\u001B[0m )\n",
      "File \u001B[1;32m~\\anaconda3\\Lib\\site-packages\\pandas\\io\\html.py:983\u001B[0m, in \u001B[0;36m_parse\u001B[1;34m(flavor, io, match, attrs, encoding, displayed_only, extract_links, storage_options, **kwargs)\u001B[0m\n\u001B[0;32m    972\u001B[0m p \u001B[38;5;241m=\u001B[39m parser(\n\u001B[0;32m    973\u001B[0m     io,\n\u001B[0;32m    974\u001B[0m     compiled_match,\n\u001B[1;32m   (...)\u001B[0m\n\u001B[0;32m    979\u001B[0m     storage_options,\n\u001B[0;32m    980\u001B[0m )\n\u001B[0;32m    982\u001B[0m \u001B[38;5;28;01mtry\u001B[39;00m:\n\u001B[1;32m--> 983\u001B[0m     tables \u001B[38;5;241m=\u001B[39m p\u001B[38;5;241m.\u001B[39mparse_tables()\n\u001B[0;32m    984\u001B[0m \u001B[38;5;28;01mexcept\u001B[39;00m \u001B[38;5;167;01mValueError\u001B[39;00m \u001B[38;5;28;01mas\u001B[39;00m caught:\n\u001B[0;32m    985\u001B[0m     \u001B[38;5;66;03m# if `io` is an io-like object, check if it's seekable\u001B[39;00m\n\u001B[0;32m    986\u001B[0m     \u001B[38;5;66;03m# and try to rewind it before trying the next parser\u001B[39;00m\n\u001B[0;32m    987\u001B[0m     \u001B[38;5;28;01mif\u001B[39;00m \u001B[38;5;28mhasattr\u001B[39m(io, \u001B[38;5;124m\"\u001B[39m\u001B[38;5;124mseekable\u001B[39m\u001B[38;5;124m\"\u001B[39m) \u001B[38;5;129;01mand\u001B[39;00m io\u001B[38;5;241m.\u001B[39mseekable():\n",
      "File \u001B[1;32m~\\anaconda3\\Lib\\site-packages\\pandas\\io\\html.py:249\u001B[0m, in \u001B[0;36m_HtmlFrameParser.parse_tables\u001B[1;34m(self)\u001B[0m\n\u001B[0;32m    241\u001B[0m \u001B[38;5;28;01mdef\u001B[39;00m \u001B[38;5;21mparse_tables\u001B[39m(\u001B[38;5;28mself\u001B[39m):\n\u001B[0;32m    242\u001B[0m \u001B[38;5;250m    \u001B[39m\u001B[38;5;124;03m\"\"\"\u001B[39;00m\n\u001B[0;32m    243\u001B[0m \u001B[38;5;124;03m    Parse and return all tables from the DOM.\u001B[39;00m\n\u001B[0;32m    244\u001B[0m \n\u001B[1;32m   (...)\u001B[0m\n\u001B[0;32m    247\u001B[0m \u001B[38;5;124;03m    list of parsed (header, body, footer) tuples from tables.\u001B[39;00m\n\u001B[0;32m    248\u001B[0m \u001B[38;5;124;03m    \"\"\"\u001B[39;00m\n\u001B[1;32m--> 249\u001B[0m     tables \u001B[38;5;241m=\u001B[39m \u001B[38;5;28mself\u001B[39m\u001B[38;5;241m.\u001B[39m_parse_tables(\u001B[38;5;28mself\u001B[39m\u001B[38;5;241m.\u001B[39m_build_doc(), \u001B[38;5;28mself\u001B[39m\u001B[38;5;241m.\u001B[39mmatch, \u001B[38;5;28mself\u001B[39m\u001B[38;5;241m.\u001B[39mattrs)\n\u001B[0;32m    250\u001B[0m     \u001B[38;5;28;01mreturn\u001B[39;00m (\u001B[38;5;28mself\u001B[39m\u001B[38;5;241m.\u001B[39m_parse_thead_tbody_tfoot(table) \u001B[38;5;28;01mfor\u001B[39;00m table \u001B[38;5;129;01min\u001B[39;00m tables)\n",
      "File \u001B[1;32m~\\anaconda3\\Lib\\site-packages\\pandas\\io\\html.py:791\u001B[0m, in \u001B[0;36m_LxmlFrameParser._build_doc\u001B[1;34m(self)\u001B[0m\n\u001B[0;32m    788\u001B[0m         r \u001B[38;5;241m=\u001B[39m parse(f\u001B[38;5;241m.\u001B[39mhandle, parser\u001B[38;5;241m=\u001B[39mparser)\n\u001B[0;32m    789\u001B[0m \u001B[38;5;28;01melse\u001B[39;00m:\n\u001B[0;32m    790\u001B[0m     \u001B[38;5;66;03m# try to parse the input in the simplest way\u001B[39;00m\n\u001B[1;32m--> 791\u001B[0m     r \u001B[38;5;241m=\u001B[39m parse(\u001B[38;5;28mself\u001B[39m\u001B[38;5;241m.\u001B[39mio, parser\u001B[38;5;241m=\u001B[39mparser)\n\u001B[0;32m    792\u001B[0m \u001B[38;5;28;01mtry\u001B[39;00m:\n\u001B[0;32m    793\u001B[0m     r \u001B[38;5;241m=\u001B[39m r\u001B[38;5;241m.\u001B[39mgetroot()\n",
      "File \u001B[1;32m~\\anaconda3\\Lib\\site-packages\\lxml\\html\\__init__.py:914\u001B[0m, in \u001B[0;36mparse\u001B[1;34m(filename_or_url, parser, base_url, **kw)\u001B[0m\n\u001B[0;32m    912\u001B[0m \u001B[38;5;28;01mif\u001B[39;00m parser \u001B[38;5;129;01mis\u001B[39;00m \u001B[38;5;28;01mNone\u001B[39;00m:\n\u001B[0;32m    913\u001B[0m     parser \u001B[38;5;241m=\u001B[39m html_parser\n\u001B[1;32m--> 914\u001B[0m \u001B[38;5;28;01mreturn\u001B[39;00m etree\u001B[38;5;241m.\u001B[39mparse(filename_or_url, parser, base_url\u001B[38;5;241m=\u001B[39mbase_url, \u001B[38;5;241m*\u001B[39m\u001B[38;5;241m*\u001B[39mkw)\n",
      "File \u001B[1;32msrc\\\\lxml\\\\etree.pyx:3570\u001B[0m, in \u001B[0;36mlxml.etree.parse\u001B[1;34m()\u001B[0m\n",
      "File \u001B[1;32msrc\\\\lxml\\\\parser.pxi:1968\u001B[0m, in \u001B[0;36mlxml.etree._parseDocument\u001B[1;34m()\u001B[0m\n",
      "\u001B[1;31mTypeError\u001B[0m: 'NoneType' object is not callable"
     ]
    }
   ],
   "execution_count": 7
  },
  {
   "metadata": {},
   "cell_type": "code",
   "outputs": [],
   "execution_count": null,
   "source": "",
   "id": "c1edec28fa5649c9"
  }
 ],
 "metadata": {
  "kernelspec": {
   "display_name": "Python 3",
   "language": "python",
   "name": "python3"
  },
  "language_info": {
   "codemirror_mode": {
    "name": "ipython",
    "version": 2
   },
   "file_extension": ".py",
   "mimetype": "text/x-python",
   "name": "python",
   "nbconvert_exporter": "python",
   "pygments_lexer": "ipython2",
   "version": "2.7.6"
  }
 },
 "nbformat": 4,
 "nbformat_minor": 5
}
