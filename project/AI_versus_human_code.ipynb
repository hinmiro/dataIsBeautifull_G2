{
 "cells": [
  {
   "metadata": {},
   "cell_type": "markdown",
   "source": [
    "# Analyzing AI-Generated vs. Human-Written Code\n",
    "----"
   ],
   "id": "2b1dde5386427671"
  },
  {
   "metadata": {},
   "cell_type": "markdown",
   "source": [
    "## Business understanding\n",
    "\n",
    "The goal of this project is to differentiate between AI-generated and human-written code snippets. By analyzing various features of the code, such as the execution time, length, complexity, and the presence of lambda functions, we aim to build a model that can accurately classify the origin of the code.\n",
    "\n",
    "Our research questions are:\n",
    "\n",
    "- Which code features best distinguish AI-generated and human-written code?\n",
    "- Which type of code (AI-generated or human-written) executes faster?\n",
    "- Does AI generate more complex code than humans?\n",
    "- Can AI-generated and human-written code be distinguished based on e.g., execution time and complexity?\n",
    "\n",
    "By answering these questions, we aim to understand the characteristics of AI-generated code and improve the development of AI coding tools and compare it to human written code.\n"
   ],
   "id": "37ae4d80611f6d57"
  },
  {
   "metadata": {},
   "cell_type": "markdown",
   "source": [
    "## Data understanding\n",
    "\n",
    "The dataset used in this project is from [Kaggle](https://www.kaggle.com/). It consists of AI-generated and human-written code samples, each solving various programming tasks. Each sample is labeled as either AI-generated or human-written. The dataset provides a mix of syntactic, structural, and performance-related features that help analyze and compare AI-generated and human-written code.\n",
    "\n",
    "We found that the dataset is now removed from the site. Fortunately, we had already downloaded the dataset as a CSV file, so we could still use it for our analysis.\n",
    "\n",
    "We first loaded the dataset and examined its structure:"
   ],
   "id": "46d233a206f9cb22"
  },
  {
   "metadata": {
    "ExecuteTime": {
     "end_time": "2025-03-03T18:37:22.586336Z",
     "start_time": "2025-03-03T18:37:22.515335Z"
    }
   },
   "cell_type": "code",
   "source": [
    "import pandas as pd\n",
    "\n",
    "# Dataset from data directory\n",
    "df = pd.read_csv('../data/ai_vs_human_code_dataset.csv')\n",
    "\n",
    "# Dataset Summary\n",
    "print(f\"Dataset has {df.shape[0]} rows and {df.shape[1]} columns.\")\n",
    "\n",
    "# Display column names and their data types\n",
    "print(\"\\nData types of each feature:\")\n",
    "print(df.dtypes)"
   ],
   "id": "db56557ea2c2492c",
   "outputs": [
    {
     "name": "stdout",
     "output_type": "stream",
     "text": [
      "Dataset has 1500 rows and 15 columns.\n",
      "\n",
      "Data types of each feature:\n",
      "code_id              object\n",
      "code_snippet         object\n",
      "code_length           int64\n",
      "num_functions         int64\n",
      "num_classes           int64\n",
      "num_variables         int64\n",
      "num_comments          int64\n",
      "comment_density     float64\n",
      "num_imports           int64\n",
      "use_of_recursion      int64\n",
      "use_of_lambda         int64\n",
      "num_loops             int64\n",
      "complexity_score      int64\n",
      "execution_time      float64\n",
      "ai_generated          int64\n",
      "dtype: object\n"
     ]
    }
   ],
   "execution_count": 20
  },
  {
   "metadata": {},
   "cell_type": "markdown",
   "source": "This allowed us to understand the size of the dataset and the types of features available.",
   "id": "2f34dd54fc3f7a40"
  },
  {
   "metadata": {},
   "cell_type": "markdown",
   "source": [
    "#### Missing values\n",
    "\n",
    "To ensure data quality, we checked for missing values in the dataset:"
   ],
   "id": "db3fdcbee7a275a5"
  },
  {
   "metadata": {
    "ExecuteTime": {
     "end_time": "2025-03-03T18:37:22.616496Z",
     "start_time": "2025-03-03T18:37:22.604738Z"
    }
   },
   "cell_type": "code",
   "source": [
    "# Check for missing values\n",
    "missing_values = df.isnull().sum()\n",
    "missing_info = pd.DataFrame({\n",
    "    'Missing values': missing_values,\n",
    "    'Percentage': (missing_values / len(df)) * 100\n",
    "})\n",
    "\n",
    "# Display missing value report\n",
    "print(\"\\nMissing values in the dataset:\")\n",
    "print(missing_info)"
   ],
   "id": "b549e6bba5f224e6",
   "outputs": [
    {
     "name": "stdout",
     "output_type": "stream",
     "text": [
      "\n",
      "Missing values in the dataset:\n",
      "                  Missing values  Percentage\n",
      "code_id                        0         0.0\n",
      "code_snippet                   0         0.0\n",
      "code_length                    0         0.0\n",
      "num_functions                  0         0.0\n",
      "num_classes                    0         0.0\n",
      "num_variables                  0         0.0\n",
      "num_comments                   0         0.0\n",
      "comment_density                0         0.0\n",
      "num_imports                    0         0.0\n",
      "use_of_recursion               0         0.0\n",
      "use_of_lambda                  0         0.0\n",
      "num_loops                      0         0.0\n",
      "complexity_score               0         0.0\n",
      "execution_time                 0         0.0\n",
      "ai_generated                   0         0.0\n"
     ]
    }
   ],
   "execution_count": 21
  },
  {
   "metadata": {},
   "cell_type": "markdown",
   "source": "This result indicates that there are no missing values in the dataset, so the dataset is complete. We could perform the analysis without any additional preprocessing related to missing values.",
   "id": "ee9b69fe91186b5c"
  },
  {
   "metadata": {},
   "cell_type": "markdown",
   "source": [
    "#### Unique values\n",
    "\n",
    "After examining the missing values we checked the number of unique values in each column. This helps us to identify:\n",
    "- Columns with low variability (e.g., columns with constant values)\n",
    "- Features that may not have meaningful information to our model\n",
    "- Data distribution across columns"
   ],
   "id": "d015374b0c93c01c"
  },
  {
   "metadata": {
    "ExecuteTime": {
     "end_time": "2025-03-03T18:37:22.695836Z",
     "start_time": "2025-03-03T18:37:22.680825Z"
    }
   },
   "cell_type": "code",
   "source": [
    "# Check the number of unique values in each column\n",
    "df.nunique()"
   ],
   "id": "4120ecf3f1bb1837",
   "outputs": [
    {
     "data": {
      "text/plain": [
       "code_id              10\n",
       "code_snippet         10\n",
       "code_length           9\n",
       "num_functions         2\n",
       "num_classes           1\n",
       "num_variables         3\n",
       "num_comments          1\n",
       "comment_density       1\n",
       "num_imports           2\n",
       "use_of_recursion      2\n",
       "use_of_lambda         2\n",
       "num_loops             2\n",
       "complexity_score      4\n",
       "execution_time      693\n",
       "ai_generated          2\n",
       "dtype: int64"
      ]
     },
     "execution_count": 22,
     "metadata": {},
     "output_type": "execute_result"
    }
   ],
   "execution_count": 22
  },
  {
   "metadata": {},
   "cell_type": "markdown",
   "source": [
    "Since our research questions focus on distinguishing AI-generated and human-written code based on execution time, complexity, and specific code features, we found that certain columns are not relevant for this analysis. Therefore, columns such as `num_classes`, `num_comments`, `comment_density`, `code_id`, and `code_snippet` will be excluded in the preprocessing phase. In the next section, we will provide the reason for their removal and show the preprocessing steps to ensure that only meaningful features are included.\n",
    "\n",
    "The following features are needed for our analysis:\n",
    "- `use_of_lambda`: Lambda function usage might be more frequent in AI-generated code.\n",
    "- `complexity_score`: Measures the complexity of the code and will help assess whether AI-generated code is more complex.\n",
    "- `num_functions`, `num_variables`, `num_loops`: These features provide structural information that could distinguish between human and AI code.\n",
    "- `num_imports`: The number of external libraries or modules used may vary between AI-generated and human-written code.\n",
    "- `code_length`: The total length of the code might indicate the level of detail or the complexity of the code.\n",
    "- `use_of_recursion`: Recursion usage can help distinguish between AI and human coding styles.\n",
    "- `execution_time`: Which is more efficient, AI or human-written code?\n",
    "\n",
    "By understanding the dataset structure, handling missing values and identifying relevant features, we ensured that our data was well-prepared for the preprocessing phase."
   ],
   "id": "ac286acf66c064b0"
  },
  {
   "metadata": {},
   "cell_type": "markdown",
   "source": [
    "## Data Preparation\n",
    "\n",
    "#### Feature Removal Explanation\n",
    "\n",
    "The following features will be removed because they do not contribute meaningful information to the analysis:\n",
    "\n",
    "- `num_classes`, `num_comments`, `comment_density`: These variables always have a single value, meaning they provide zero variance and no useful information.\n",
    "- `code_id`: This is unnecessary as it only serves as an identifier.\n",
    "- `code_snippet`: This feature is too complex for this analysis and will not be considered.\n",
    "\n",
    "By removing these columns, we ensure that the dataset remains relevant and avoids introducing unnecessary noise into the model.\n"
   ],
   "id": "2203523a3d9c606d"
  },
  {
   "metadata": {
    "ExecuteTime": {
     "end_time": "2025-03-03T18:37:22.775820Z",
     "start_time": "2025-03-03T18:37:22.760815Z"
    }
   },
   "cell_type": "code",
   "source": [
    "# Create X and y dataframes from whole dataset\n",
    "y = df['ai_generated']\n",
    "# Drop unnecessary features\n",
    "X = df.drop(columns=['ai_generated', 'code_id', 'code_snippet', 'num_classes', 'num_comments', 'comment_density'])"
   ],
   "id": "c5a18682a56d6516",
   "outputs": [],
   "execution_count": 23
  },
  {
   "metadata": {},
   "cell_type": "markdown",
   "source": [
    "#### Scaling data and dividing it into train and test sets\n",
    "\n",
    "We experienced severe overfitting of the model, possibly due to the relatively small dataset or the lack of sufficient variability in the data. To evaluate the model's performance effectively, we split the data into training and test sets. Afterward, we scaled both test and training datasets using `StandardScaler` to standardize the features. This ensures that all features contribute equally to the model."
   ],
   "id": "4612fba52732e527"
  },
  {
   "metadata": {
    "ExecuteTime": {
     "end_time": "2025-03-03T18:37:22.899814Z",
     "start_time": "2025-03-03T18:37:22.840810Z"
    }
   },
   "cell_type": "code",
   "source": [
    "from sklearn.model_selection import train_test_split\n",
    "from sklearn.preprocessing import StandardScaler\n",
    "\n",
    "# Split data to test and train sets\n",
    "X_train, X_test, y_train, y_test = train_test_split(X, y, test_size=0.3, random_state=35)\n",
    "\n",
    "# Scale both train and test datasets\n",
    "scaler = StandardScaler()\n",
    "X_train_scaled = pd.DataFrame(scaler.fit_transform(X_train), columns=X_train.columns)\n",
    "X_test_scaled = pd.DataFrame(scaler.transform(X_test), columns=X_test.columns)\n",
    "\n",
    "X_train_scaled.head(5)"
   ],
   "id": "7f82f3147f2cb3c7",
   "outputs": [
    {
     "data": {
      "text/plain": [
       "   code_length  num_functions  num_variables  num_imports  use_of_recursion  \\\n",
       "0    -0.357497       0.671026       1.529633    -0.819741         -0.315399   \n",
       "1     0.874700       0.671026      -1.099033     1.219898         -0.315399   \n",
       "2     0.800022       0.671026       1.529633    -0.819741         -0.315399   \n",
       "3    -0.544194       0.671026      -1.099033    -0.819741         -0.315399   \n",
       "4    -0.544194       0.671026      -1.099033    -0.819741         -0.315399   \n",
       "\n",
       "   use_of_lambda  num_loops  complexity_score  execution_time  \n",
       "0       -0.33685   1.003817          0.620771        0.306591  \n",
       "1       -0.33685   1.003817          0.620771       -0.302827  \n",
       "2       -0.33685   1.003817          0.620771        0.273350  \n",
       "3       -0.33685  -0.996198         -0.362350       -0.140316  \n",
       "4       -0.33685  -0.996198         -0.362350       -0.860537  "
      ],
      "text/html": [
       "<div>\n",
       "<style scoped>\n",
       "    .dataframe tbody tr th:only-of-type {\n",
       "        vertical-align: middle;\n",
       "    }\n",
       "\n",
       "    .dataframe tbody tr th {\n",
       "        vertical-align: top;\n",
       "    }\n",
       "\n",
       "    .dataframe thead th {\n",
       "        text-align: right;\n",
       "    }\n",
       "</style>\n",
       "<table border=\"1\" class=\"dataframe\">\n",
       "  <thead>\n",
       "    <tr style=\"text-align: right;\">\n",
       "      <th></th>\n",
       "      <th>code_length</th>\n",
       "      <th>num_functions</th>\n",
       "      <th>num_variables</th>\n",
       "      <th>num_imports</th>\n",
       "      <th>use_of_recursion</th>\n",
       "      <th>use_of_lambda</th>\n",
       "      <th>num_loops</th>\n",
       "      <th>complexity_score</th>\n",
       "      <th>execution_time</th>\n",
       "    </tr>\n",
       "  </thead>\n",
       "  <tbody>\n",
       "    <tr>\n",
       "      <th>0</th>\n",
       "      <td>-0.357497</td>\n",
       "      <td>0.671026</td>\n",
       "      <td>1.529633</td>\n",
       "      <td>-0.819741</td>\n",
       "      <td>-0.315399</td>\n",
       "      <td>-0.33685</td>\n",
       "      <td>1.003817</td>\n",
       "      <td>0.620771</td>\n",
       "      <td>0.306591</td>\n",
       "    </tr>\n",
       "    <tr>\n",
       "      <th>1</th>\n",
       "      <td>0.874700</td>\n",
       "      <td>0.671026</td>\n",
       "      <td>-1.099033</td>\n",
       "      <td>1.219898</td>\n",
       "      <td>-0.315399</td>\n",
       "      <td>-0.33685</td>\n",
       "      <td>1.003817</td>\n",
       "      <td>0.620771</td>\n",
       "      <td>-0.302827</td>\n",
       "    </tr>\n",
       "    <tr>\n",
       "      <th>2</th>\n",
       "      <td>0.800022</td>\n",
       "      <td>0.671026</td>\n",
       "      <td>1.529633</td>\n",
       "      <td>-0.819741</td>\n",
       "      <td>-0.315399</td>\n",
       "      <td>-0.33685</td>\n",
       "      <td>1.003817</td>\n",
       "      <td>0.620771</td>\n",
       "      <td>0.273350</td>\n",
       "    </tr>\n",
       "    <tr>\n",
       "      <th>3</th>\n",
       "      <td>-0.544194</td>\n",
       "      <td>0.671026</td>\n",
       "      <td>-1.099033</td>\n",
       "      <td>-0.819741</td>\n",
       "      <td>-0.315399</td>\n",
       "      <td>-0.33685</td>\n",
       "      <td>-0.996198</td>\n",
       "      <td>-0.362350</td>\n",
       "      <td>-0.140316</td>\n",
       "    </tr>\n",
       "    <tr>\n",
       "      <th>4</th>\n",
       "      <td>-0.544194</td>\n",
       "      <td>0.671026</td>\n",
       "      <td>-1.099033</td>\n",
       "      <td>-0.819741</td>\n",
       "      <td>-0.315399</td>\n",
       "      <td>-0.33685</td>\n",
       "      <td>-0.996198</td>\n",
       "      <td>-0.362350</td>\n",
       "      <td>-0.860537</td>\n",
       "    </tr>\n",
       "  </tbody>\n",
       "</table>\n",
       "</div>"
      ]
     },
     "execution_count": 24,
     "metadata": {},
     "output_type": "execute_result"
    }
   ],
   "execution_count": 24
  },
  {
   "metadata": {},
   "cell_type": "markdown",
   "source": [
    "The output displays the first 5 rows of the scaled training data.\n",
    "\n",
    "The scaled values show the transformed data where each feature is standardized.\n"
   ],
   "id": "c1bb270a1dd02995"
  },
  {
   "metadata": {},
   "cell_type": "markdown",
   "source": [
    "## Data Modeling\n",
    "\n",
    "For our case to predict if code snippet is human-written or AI-generated, we decided to use **Logistic Regression** model. This model suits well for binary classification problems and allows us to analyze which features contribute most to separate the two types of code.\n",
    "\n",
    "At first, the model was overfitting severely, and splitting the data did not resolve the issue. After several attempts, we found that we can give the Logistic Regression model hyperparameter C to reduce or increase its regularization. Using a lower C value (0.01) applied stronger regularization and reduced model complexity. This helped to improve the model by preventing it from fitting too closely to the training data."
   ],
   "id": "f2f1825b50a92d97"
  },
  {
   "metadata": {
    "ExecuteTime": {
     "end_time": "2025-03-03T18:37:23.663204Z",
     "start_time": "2025-03-03T18:37:23.632197Z"
    }
   },
   "cell_type": "code",
   "source": [
    "from sklearn.linear_model import LogisticRegression\n",
    "from sklearn.model_selection import cross_val_score\n",
    "from sklearn.metrics import accuracy_score\n",
    "\n",
    "# Model fitting\n",
    "model = LogisticRegression(solver='lbfgs', C=0.01)\n",
    "\n",
    "# Fit the model\n",
    "model.fit(X_train_scaled, y_train)"
   ],
   "id": "ade77645a1309d40",
   "outputs": [
    {
     "data": {
      "text/plain": [
       "LogisticRegression(C=0.01)"
      ],
      "text/html": [
       "<style>#sk-container-id-2 {\n",
       "  /* Definition of color scheme common for light and dark mode */\n",
       "  --sklearn-color-text: black;\n",
       "  --sklearn-color-line: gray;\n",
       "  /* Definition of color scheme for unfitted estimators */\n",
       "  --sklearn-color-unfitted-level-0: #fff5e6;\n",
       "  --sklearn-color-unfitted-level-1: #f6e4d2;\n",
       "  --sklearn-color-unfitted-level-2: #ffe0b3;\n",
       "  --sklearn-color-unfitted-level-3: chocolate;\n",
       "  /* Definition of color scheme for fitted estimators */\n",
       "  --sklearn-color-fitted-level-0: #f0f8ff;\n",
       "  --sklearn-color-fitted-level-1: #d4ebff;\n",
       "  --sklearn-color-fitted-level-2: #b3dbfd;\n",
       "  --sklearn-color-fitted-level-3: cornflowerblue;\n",
       "\n",
       "  /* Specific color for light theme */\n",
       "  --sklearn-color-text-on-default-background: var(--sg-text-color, var(--theme-code-foreground, var(--jp-content-font-color1, black)));\n",
       "  --sklearn-color-background: var(--sg-background-color, var(--theme-background, var(--jp-layout-color0, white)));\n",
       "  --sklearn-color-border-box: var(--sg-text-color, var(--theme-code-foreground, var(--jp-content-font-color1, black)));\n",
       "  --sklearn-color-icon: #696969;\n",
       "\n",
       "  @media (prefers-color-scheme: dark) {\n",
       "    /* Redefinition of color scheme for dark theme */\n",
       "    --sklearn-color-text-on-default-background: var(--sg-text-color, var(--theme-code-foreground, var(--jp-content-font-color1, white)));\n",
       "    --sklearn-color-background: var(--sg-background-color, var(--theme-background, var(--jp-layout-color0, #111)));\n",
       "    --sklearn-color-border-box: var(--sg-text-color, var(--theme-code-foreground, var(--jp-content-font-color1, white)));\n",
       "    --sklearn-color-icon: #878787;\n",
       "  }\n",
       "}\n",
       "\n",
       "#sk-container-id-2 {\n",
       "  color: var(--sklearn-color-text);\n",
       "}\n",
       "\n",
       "#sk-container-id-2 pre {\n",
       "  padding: 0;\n",
       "}\n",
       "\n",
       "#sk-container-id-2 input.sk-hidden--visually {\n",
       "  border: 0;\n",
       "  clip: rect(1px 1px 1px 1px);\n",
       "  clip: rect(1px, 1px, 1px, 1px);\n",
       "  height: 1px;\n",
       "  margin: -1px;\n",
       "  overflow: hidden;\n",
       "  padding: 0;\n",
       "  position: absolute;\n",
       "  width: 1px;\n",
       "}\n",
       "\n",
       "#sk-container-id-2 div.sk-dashed-wrapped {\n",
       "  border: 1px dashed var(--sklearn-color-line);\n",
       "  margin: 0 0.4em 0.5em 0.4em;\n",
       "  box-sizing: border-box;\n",
       "  padding-bottom: 0.4em;\n",
       "  background-color: var(--sklearn-color-background);\n",
       "}\n",
       "\n",
       "#sk-container-id-2 div.sk-container {\n",
       "  /* jupyter's `normalize.less` sets `[hidden] { display: none; }`\n",
       "     but bootstrap.min.css set `[hidden] { display: none !important; }`\n",
       "     so we also need the `!important` here to be able to override the\n",
       "     default hidden behavior on the sphinx rendered scikit-learn.org.\n",
       "     See: https://github.com/scikit-learn/scikit-learn/issues/21755 */\n",
       "  display: inline-block !important;\n",
       "  position: relative;\n",
       "}\n",
       "\n",
       "#sk-container-id-2 div.sk-text-repr-fallback {\n",
       "  display: none;\n",
       "}\n",
       "\n",
       "div.sk-parallel-item,\n",
       "div.sk-serial,\n",
       "div.sk-item {\n",
       "  /* draw centered vertical line to link estimators */\n",
       "  background-image: linear-gradient(var(--sklearn-color-text-on-default-background), var(--sklearn-color-text-on-default-background));\n",
       "  background-size: 2px 100%;\n",
       "  background-repeat: no-repeat;\n",
       "  background-position: center center;\n",
       "}\n",
       "\n",
       "/* Parallel-specific style estimator block */\n",
       "\n",
       "#sk-container-id-2 div.sk-parallel-item::after {\n",
       "  content: \"\";\n",
       "  width: 100%;\n",
       "  border-bottom: 2px solid var(--sklearn-color-text-on-default-background);\n",
       "  flex-grow: 1;\n",
       "}\n",
       "\n",
       "#sk-container-id-2 div.sk-parallel {\n",
       "  display: flex;\n",
       "  align-items: stretch;\n",
       "  justify-content: center;\n",
       "  background-color: var(--sklearn-color-background);\n",
       "  position: relative;\n",
       "}\n",
       "\n",
       "#sk-container-id-2 div.sk-parallel-item {\n",
       "  display: flex;\n",
       "  flex-direction: column;\n",
       "}\n",
       "\n",
       "#sk-container-id-2 div.sk-parallel-item:first-child::after {\n",
       "  align-self: flex-end;\n",
       "  width: 50%;\n",
       "}\n",
       "\n",
       "#sk-container-id-2 div.sk-parallel-item:last-child::after {\n",
       "  align-self: flex-start;\n",
       "  width: 50%;\n",
       "}\n",
       "\n",
       "#sk-container-id-2 div.sk-parallel-item:only-child::after {\n",
       "  width: 0;\n",
       "}\n",
       "\n",
       "/* Serial-specific style estimator block */\n",
       "\n",
       "#sk-container-id-2 div.sk-serial {\n",
       "  display: flex;\n",
       "  flex-direction: column;\n",
       "  align-items: center;\n",
       "  background-color: var(--sklearn-color-background);\n",
       "  padding-right: 1em;\n",
       "  padding-left: 1em;\n",
       "}\n",
       "\n",
       "\n",
       "/* Toggleable style: style used for estimator/Pipeline/ColumnTransformer box that is\n",
       "clickable and can be expanded/collapsed.\n",
       "- Pipeline and ColumnTransformer use this feature and define the default style\n",
       "- Estimators will overwrite some part of the style using the `sk-estimator` class\n",
       "*/\n",
       "\n",
       "/* Pipeline and ColumnTransformer style (default) */\n",
       "\n",
       "#sk-container-id-2 div.sk-toggleable {\n",
       "  /* Default theme specific background. It is overwritten whether we have a\n",
       "  specific estimator or a Pipeline/ColumnTransformer */\n",
       "  background-color: var(--sklearn-color-background);\n",
       "}\n",
       "\n",
       "/* Toggleable label */\n",
       "#sk-container-id-2 label.sk-toggleable__label {\n",
       "  cursor: pointer;\n",
       "  display: block;\n",
       "  width: 100%;\n",
       "  margin-bottom: 0;\n",
       "  padding: 0.5em;\n",
       "  box-sizing: border-box;\n",
       "  text-align: center;\n",
       "}\n",
       "\n",
       "#sk-container-id-2 label.sk-toggleable__label-arrow:before {\n",
       "  /* Arrow on the left of the label */\n",
       "  content: \"▸\";\n",
       "  float: left;\n",
       "  margin-right: 0.25em;\n",
       "  color: var(--sklearn-color-icon);\n",
       "}\n",
       "\n",
       "#sk-container-id-2 label.sk-toggleable__label-arrow:hover:before {\n",
       "  color: var(--sklearn-color-text);\n",
       "}\n",
       "\n",
       "/* Toggleable content - dropdown */\n",
       "\n",
       "#sk-container-id-2 div.sk-toggleable__content {\n",
       "  max-height: 0;\n",
       "  max-width: 0;\n",
       "  overflow: hidden;\n",
       "  text-align: left;\n",
       "  /* unfitted */\n",
       "  background-color: var(--sklearn-color-unfitted-level-0);\n",
       "}\n",
       "\n",
       "#sk-container-id-2 div.sk-toggleable__content.fitted {\n",
       "  /* fitted */\n",
       "  background-color: var(--sklearn-color-fitted-level-0);\n",
       "}\n",
       "\n",
       "#sk-container-id-2 div.sk-toggleable__content pre {\n",
       "  margin: 0.2em;\n",
       "  border-radius: 0.25em;\n",
       "  color: var(--sklearn-color-text);\n",
       "  /* unfitted */\n",
       "  background-color: var(--sklearn-color-unfitted-level-0);\n",
       "}\n",
       "\n",
       "#sk-container-id-2 div.sk-toggleable__content.fitted pre {\n",
       "  /* unfitted */\n",
       "  background-color: var(--sklearn-color-fitted-level-0);\n",
       "}\n",
       "\n",
       "#sk-container-id-2 input.sk-toggleable__control:checked~div.sk-toggleable__content {\n",
       "  /* Expand drop-down */\n",
       "  max-height: 200px;\n",
       "  max-width: 100%;\n",
       "  overflow: auto;\n",
       "}\n",
       "\n",
       "#sk-container-id-2 input.sk-toggleable__control:checked~label.sk-toggleable__label-arrow:before {\n",
       "  content: \"▾\";\n",
       "}\n",
       "\n",
       "/* Pipeline/ColumnTransformer-specific style */\n",
       "\n",
       "#sk-container-id-2 div.sk-label input.sk-toggleable__control:checked~label.sk-toggleable__label {\n",
       "  color: var(--sklearn-color-text);\n",
       "  background-color: var(--sklearn-color-unfitted-level-2);\n",
       "}\n",
       "\n",
       "#sk-container-id-2 div.sk-label.fitted input.sk-toggleable__control:checked~label.sk-toggleable__label {\n",
       "  background-color: var(--sklearn-color-fitted-level-2);\n",
       "}\n",
       "\n",
       "/* Estimator-specific style */\n",
       "\n",
       "/* Colorize estimator box */\n",
       "#sk-container-id-2 div.sk-estimator input.sk-toggleable__control:checked~label.sk-toggleable__label {\n",
       "  /* unfitted */\n",
       "  background-color: var(--sklearn-color-unfitted-level-2);\n",
       "}\n",
       "\n",
       "#sk-container-id-2 div.sk-estimator.fitted input.sk-toggleable__control:checked~label.sk-toggleable__label {\n",
       "  /* fitted */\n",
       "  background-color: var(--sklearn-color-fitted-level-2);\n",
       "}\n",
       "\n",
       "#sk-container-id-2 div.sk-label label.sk-toggleable__label,\n",
       "#sk-container-id-2 div.sk-label label {\n",
       "  /* The background is the default theme color */\n",
       "  color: var(--sklearn-color-text-on-default-background);\n",
       "}\n",
       "\n",
       "/* On hover, darken the color of the background */\n",
       "#sk-container-id-2 div.sk-label:hover label.sk-toggleable__label {\n",
       "  color: var(--sklearn-color-text);\n",
       "  background-color: var(--sklearn-color-unfitted-level-2);\n",
       "}\n",
       "\n",
       "/* Label box, darken color on hover, fitted */\n",
       "#sk-container-id-2 div.sk-label.fitted:hover label.sk-toggleable__label.fitted {\n",
       "  color: var(--sklearn-color-text);\n",
       "  background-color: var(--sklearn-color-fitted-level-2);\n",
       "}\n",
       "\n",
       "/* Estimator label */\n",
       "\n",
       "#sk-container-id-2 div.sk-label label {\n",
       "  font-family: monospace;\n",
       "  font-weight: bold;\n",
       "  display: inline-block;\n",
       "  line-height: 1.2em;\n",
       "}\n",
       "\n",
       "#sk-container-id-2 div.sk-label-container {\n",
       "  text-align: center;\n",
       "}\n",
       "\n",
       "/* Estimator-specific */\n",
       "#sk-container-id-2 div.sk-estimator {\n",
       "  font-family: monospace;\n",
       "  border: 1px dotted var(--sklearn-color-border-box);\n",
       "  border-radius: 0.25em;\n",
       "  box-sizing: border-box;\n",
       "  margin-bottom: 0.5em;\n",
       "  /* unfitted */\n",
       "  background-color: var(--sklearn-color-unfitted-level-0);\n",
       "}\n",
       "\n",
       "#sk-container-id-2 div.sk-estimator.fitted {\n",
       "  /* fitted */\n",
       "  background-color: var(--sklearn-color-fitted-level-0);\n",
       "}\n",
       "\n",
       "/* on hover */\n",
       "#sk-container-id-2 div.sk-estimator:hover {\n",
       "  /* unfitted */\n",
       "  background-color: var(--sklearn-color-unfitted-level-2);\n",
       "}\n",
       "\n",
       "#sk-container-id-2 div.sk-estimator.fitted:hover {\n",
       "  /* fitted */\n",
       "  background-color: var(--sklearn-color-fitted-level-2);\n",
       "}\n",
       "\n",
       "/* Specification for estimator info (e.g. \"i\" and \"?\") */\n",
       "\n",
       "/* Common style for \"i\" and \"?\" */\n",
       "\n",
       ".sk-estimator-doc-link,\n",
       "a:link.sk-estimator-doc-link,\n",
       "a:visited.sk-estimator-doc-link {\n",
       "  float: right;\n",
       "  font-size: smaller;\n",
       "  line-height: 1em;\n",
       "  font-family: monospace;\n",
       "  background-color: var(--sklearn-color-background);\n",
       "  border-radius: 1em;\n",
       "  height: 1em;\n",
       "  width: 1em;\n",
       "  text-decoration: none !important;\n",
       "  margin-left: 1ex;\n",
       "  /* unfitted */\n",
       "  border: var(--sklearn-color-unfitted-level-1) 1pt solid;\n",
       "  color: var(--sklearn-color-unfitted-level-1);\n",
       "}\n",
       "\n",
       ".sk-estimator-doc-link.fitted,\n",
       "a:link.sk-estimator-doc-link.fitted,\n",
       "a:visited.sk-estimator-doc-link.fitted {\n",
       "  /* fitted */\n",
       "  border: var(--sklearn-color-fitted-level-1) 1pt solid;\n",
       "  color: var(--sklearn-color-fitted-level-1);\n",
       "}\n",
       "\n",
       "/* On hover */\n",
       "div.sk-estimator:hover .sk-estimator-doc-link:hover,\n",
       ".sk-estimator-doc-link:hover,\n",
       "div.sk-label-container:hover .sk-estimator-doc-link:hover,\n",
       ".sk-estimator-doc-link:hover {\n",
       "  /* unfitted */\n",
       "  background-color: var(--sklearn-color-unfitted-level-3);\n",
       "  color: var(--sklearn-color-background);\n",
       "  text-decoration: none;\n",
       "}\n",
       "\n",
       "div.sk-estimator.fitted:hover .sk-estimator-doc-link.fitted:hover,\n",
       ".sk-estimator-doc-link.fitted:hover,\n",
       "div.sk-label-container:hover .sk-estimator-doc-link.fitted:hover,\n",
       ".sk-estimator-doc-link.fitted:hover {\n",
       "  /* fitted */\n",
       "  background-color: var(--sklearn-color-fitted-level-3);\n",
       "  color: var(--sklearn-color-background);\n",
       "  text-decoration: none;\n",
       "}\n",
       "\n",
       "/* Span, style for the box shown on hovering the info icon */\n",
       ".sk-estimator-doc-link span {\n",
       "  display: none;\n",
       "  z-index: 9999;\n",
       "  position: relative;\n",
       "  font-weight: normal;\n",
       "  right: .2ex;\n",
       "  padding: .5ex;\n",
       "  margin: .5ex;\n",
       "  width: min-content;\n",
       "  min-width: 20ex;\n",
       "  max-width: 50ex;\n",
       "  color: var(--sklearn-color-text);\n",
       "  box-shadow: 2pt 2pt 4pt #999;\n",
       "  /* unfitted */\n",
       "  background: var(--sklearn-color-unfitted-level-0);\n",
       "  border: .5pt solid var(--sklearn-color-unfitted-level-3);\n",
       "}\n",
       "\n",
       ".sk-estimator-doc-link.fitted span {\n",
       "  /* fitted */\n",
       "  background: var(--sklearn-color-fitted-level-0);\n",
       "  border: var(--sklearn-color-fitted-level-3);\n",
       "}\n",
       "\n",
       ".sk-estimator-doc-link:hover span {\n",
       "  display: block;\n",
       "}\n",
       "\n",
       "/* \"?\"-specific style due to the `<a>` HTML tag */\n",
       "\n",
       "#sk-container-id-2 a.estimator_doc_link {\n",
       "  float: right;\n",
       "  font-size: 1rem;\n",
       "  line-height: 1em;\n",
       "  font-family: monospace;\n",
       "  background-color: var(--sklearn-color-background);\n",
       "  border-radius: 1rem;\n",
       "  height: 1rem;\n",
       "  width: 1rem;\n",
       "  text-decoration: none;\n",
       "  /* unfitted */\n",
       "  color: var(--sklearn-color-unfitted-level-1);\n",
       "  border: var(--sklearn-color-unfitted-level-1) 1pt solid;\n",
       "}\n",
       "\n",
       "#sk-container-id-2 a.estimator_doc_link.fitted {\n",
       "  /* fitted */\n",
       "  border: var(--sklearn-color-fitted-level-1) 1pt solid;\n",
       "  color: var(--sklearn-color-fitted-level-1);\n",
       "}\n",
       "\n",
       "/* On hover */\n",
       "#sk-container-id-2 a.estimator_doc_link:hover {\n",
       "  /* unfitted */\n",
       "  background-color: var(--sklearn-color-unfitted-level-3);\n",
       "  color: var(--sklearn-color-background);\n",
       "  text-decoration: none;\n",
       "}\n",
       "\n",
       "#sk-container-id-2 a.estimator_doc_link.fitted:hover {\n",
       "  /* fitted */\n",
       "  background-color: var(--sklearn-color-fitted-level-3);\n",
       "}\n",
       "</style><div id=\"sk-container-id-2\" class=\"sk-top-container\"><div class=\"sk-text-repr-fallback\"><pre>LogisticRegression(C=0.01)</pre><b>In a Jupyter environment, please rerun this cell to show the HTML representation or trust the notebook. <br />On GitHub, the HTML representation is unable to render, please try loading this page with nbviewer.org.</b></div><div class=\"sk-container\" hidden><div class=\"sk-item\"><div class=\"sk-estimator fitted sk-toggleable\"><input class=\"sk-toggleable__control sk-hidden--visually\" id=\"sk-estimator-id-2\" type=\"checkbox\" checked><label for=\"sk-estimator-id-2\" class=\"sk-toggleable__label fitted sk-toggleable__label-arrow fitted\">&nbsp;&nbsp;LogisticRegression<a class=\"sk-estimator-doc-link fitted\" rel=\"noreferrer\" target=\"_blank\" href=\"https://scikit-learn.org/1.5/modules/generated/sklearn.linear_model.LogisticRegression.html\">?<span>Documentation for LogisticRegression</span></a><span class=\"sk-estimator-doc-link fitted\">i<span>Fitted</span></span></label><div class=\"sk-toggleable__content fitted\"><pre>LogisticRegression(C=0.01)</pre></div> </div></div></div></div>"
      ]
     },
     "execution_count": 25,
     "metadata": {},
     "output_type": "execute_result"
    }
   ],
   "execution_count": 25
  },
  {
   "metadata": {},
   "cell_type": "markdown",
   "source": "## Evaluation",
   "id": "18fd6ebfc8393b4c"
  },
  {
   "metadata": {},
   "cell_type": "markdown",
   "source": "We used 5-fold cross-validation, meaning the model was trained 5 times on different data splits and its performance was evaluated each time.",
   "id": "9317f254c6035226"
  },
  {
   "metadata": {
    "ExecuteTime": {
     "end_time": "2025-03-03T18:37:23.773195Z",
     "start_time": "2025-03-03T18:37:23.722201Z"
    }
   },
   "cell_type": "code",
   "source": [
    "# Cross-validation\n",
    "cv_scores = cross_val_score(model, X_train_scaled, y_train, cv=5)\n",
    "\n",
    "# Evaluate the model\n",
    "y_test_prediction = model.predict(X_test_scaled)\n",
    "accuracy = accuracy_score(y_test, y_test_prediction)\n",
    "\n",
    "# Print evaluation results\n",
    "print(\"Cross-Validation Scores: \", cv_scores)\n",
    "print(\"Mean CV Accuracy: %0.2f\" % cv_scores.mean())\n",
    "print(\"Test Set Accuracy: %0.2f\\n\" % accuracy)\n",
    "print(\"Coefficients: \", model.coef_)\n",
    "print(\"\\nIntercept: \", model.intercept_)"
   ],
   "id": "24ff29f139ef03ce",
   "outputs": [
    {
     "name": "stdout",
     "output_type": "stream",
     "text": [
      "Cross-Validation Scores:  [0.9047619  0.90952381 0.94285714 0.88571429 0.8952381 ]\n",
      "Mean CV Accuracy: 0.91\n",
      "Test Set Accuracy: 0.90\n",
      "\n",
      "Coefficients:  [[-1.01263844 -0.1805689   0.15576452  0.22407693  0.47444439  0.42614826\n",
      "   0.27764059  0.32194573  0.08783743]]\n",
      "\n",
      "Intercept:  [-0.04413052]\n"
     ]
    }
   ],
   "execution_count": 26
  },
  {
   "metadata": {},
   "cell_type": "markdown",
   "source": [
    "The cross-validation scores represent the model's accuracy on each of the different data splits.\n",
    "\n",
    "The model achieved a mean cross-validation accuracy of **91%** and a test accuracy of **90%**, indicating that it effectively differentiated between AI and human-written code.\n",
    "\n",
    "The coefficients and intercept provide insight into how the model is making predictions based on different features, helping us understand the model's behavior."
   ],
   "id": "d22fca7cc1468d6e"
  },
  {
   "metadata": {},
   "cell_type": "markdown",
   "source": [
    "#### Confusion Matrix Analysis\n",
    "\n",
    "To evaluate the performance even more, we visualized the confusion matrix:"
   ],
   "id": "bdcb902e6011e7cb"
  },
  {
   "metadata": {
    "ExecuteTime": {
     "end_time": "2025-03-03T18:37:23.961598Z",
     "start_time": "2025-03-03T18:37:23.808212Z"
    }
   },
   "cell_type": "code",
   "source": [
    "from matplotlib import pyplot as plt\n",
    "from sklearn.metrics import confusion_matrix, accuracy_score\n",
    "from sklearn.model_selection import cross_val_predict\n",
    "\n",
    "# Predict on test set\n",
    "y_test_prediction = model.predict(X_test_scaled)\n",
    "\n",
    "# Initialize confusion matrix\n",
    "cm = confusion_matrix(y_test, y_test_prediction)\n",
    "\n",
    "# Accuracy score for y_test\n",
    "accuracy = accuracy_score(y_test, y_test_prediction)\n",
    "print(\"Accuracy: %0.2f\" % accuracy)\n",
    "print(\"Confusion Matrix:\\n\", cm)\n",
    "\n",
    "# Visualize confusion matrix for test dataset\n",
    "plt.matshow(cm)\n",
    "plt.title('Confusion matrix for test set')\n",
    "plt.colorbar()\n",
    "plt.ylabel('True label')\n",
    "plt.xlabel('Predicted label')\n",
    "for i in range(2):\n",
    "    for j in range(2):\n",
    "        plt.text(j, i, cm[i, j], ha='center', va='center', color='white')\n",
    "plt.show()"
   ],
   "id": "9187708d4bf9938b",
   "outputs": [
    {
     "name": "stdout",
     "output_type": "stream",
     "text": [
      "Accuracy: 0.90\n",
      "Confusion Matrix:\n",
      " [[212   0]\n",
      " [ 46 192]]\n"
     ]
    },
    {
     "data": {
      "text/plain": [
       "<Figure size 480x480 with 2 Axes>"
      ],
      "image/png": "[encoded data removed]"
     },
     "metadata": {},
     "output_type": "display_data"
    }
   ],
   "execution_count": 27
  },
  {
   "metadata": {},
   "cell_type": "markdown",
   "source": "#### Cross Validation",
   "id": "fdeaa9f28bf5591b"
  },
  {
   "metadata": {
    "ExecuteTime": {
     "end_time": "2025-03-03T18:37:24.176680Z",
     "start_time": "2025-03-03T18:37:23.992589Z"
    }
   },
   "cell_type": "code",
   "source": [
    "y_prediction = cross_val_predict(estimator=model, X=X_train_scaled, y=y_train, cv=10)\n",
    "\n",
    "# Initialize confusion matrix\n",
    "cm_cv = confusion_matrix(y_train, y_prediction)\n",
    "\n",
    "# Accuracy score for y\n",
    "accuracy_cv = accuracy_score(y_train, y_prediction)\n",
    "\n",
    "print(\"Accuracy: %0.2f\" % accuracy_cv)\n",
    "print(\"Confusion Matrix:\\n\", cm_cv)\n",
    "\n",
    "# Visualize confusion matrix\n",
    "plt.matshow(cm_cv)\n",
    "plt.title('Confusion matrix for cross validation')\n",
    "plt.colorbar()\n",
    "plt.ylabel('True label')\n",
    "plt.xlabel('Predicted label')\n",
    "# Include counts\n",
    "for i in range(2):\n",
    "    for j in range(2):\n",
    "        plt.text(j, i, cm_cv[i, j], ha='center', va='center', color='white')\n",
    "plt.show()"
   ],
   "id": "bb9b81e594c46e40",
   "outputs": [
    {
     "name": "stdout",
     "output_type": "stream",
     "text": [
      "Accuracy: 0.90\n",
      "Confusion Matrix:\n",
      " [[538   0]\n",
      " [100 412]]\n"
     ]
    },
    {
     "data": {
      "text/plain": [
       "<Figure size 480x480 with 2 Axes>"
      ],
      "image/png": "[encoded data removed]"
     },
     "metadata": {},
     "output_type": "display_data"
    }
   ],
   "execution_count": 28
  },
  {
   "metadata": {},
   "cell_type": "markdown",
   "source": [
    "#### Analyzing features\n",
    "\n",
    "To understand which features contribute most to classification, we applied **permutation importance**:"
   ],
   "id": "7ced045ad0fe8b5a"
  },
  {
   "metadata": {
    "ExecuteTime": {
     "end_time": "2025-03-03T18:37:28.645880Z",
     "start_time": "2025-03-03T18:37:24.296588Z"
    }
   },
   "cell_type": "code",
   "source": [
    "# feature importance\n",
    "from sklearn.inspection import permutation_importance\n",
    "\n",
    "result = permutation_importance(model, X_test_scaled, y_test, n_repeats=10, scoring=\"accuracy\", random_state=0,\n",
    "                                n_jobs=-1)\n",
    "sorted_idx = result.importances_mean.argsort()\n",
    "\n",
    "fig, ax = plt.subplots()\n",
    "ax.boxplot(result.importances[sorted_idx].T, vert=False, tick_labels=X.columns[sorted_idx])\n",
    "ax.set_title(\"Permutation Importance\")\n",
    "fig.tight_layout()\n",
    "plt.show()\n",
    "print('The x-axis represents the importance score, while the y-axis lists the different features.')"
   ],
   "id": "eb41eca990d9ab30",
   "outputs": [
    {
     "data": {
      "text/plain": [
       "<Figure size 640x480 with 1 Axes>"
      ],
      "image/png": "[encoded data removed]"
     },
     "metadata": {},
     "output_type": "display_data"
    },
    {
     "name": "stdout",
     "output_type": "stream",
     "text": [
      "The x-axis represents the importance score, while the y-axis lists the different features.\n"
     ]
    }
   ],
   "execution_count": 29
  },
  {
   "metadata": {
    "ExecuteTime": {
     "end_time": "2025-03-03T18:37:29.320809Z",
     "start_time": "2025-03-03T18:37:28.688885Z"
    }
   },
   "cell_type": "code",
   "source": [
    "import seaborn as sns\n",
    "\n",
    "# Define features to plot\n",
    "features = [\"code_length\", \"complexity_score\", \"execution_time\"]\n",
    "\n",
    "# Create subplots (1 row, 3 columns)\n",
    "fig, axes = plt.subplots(1, 3, figsize=(18, 5))\n",
    "\n",
    "# Loop through each feature and plot on its respective subplot\n",
    "for i, col in enumerate(features):\n",
    "    sns.histplot(data=df, x=col, hue=\"ai_generated\", kde=True, ax=axes[i])\n",
    "    axes[i].set_title(f\"Distribution of {col} by ai_generated\")\n",
    "\n",
    "# Adjust layout for better spacing\n",
    "plt.tight_layout()\n",
    "plt.show()"
   ],
   "id": "c34f70ffb330fc10",
   "outputs": [
    {
     "data": {
      "text/plain": [
       "<Figure size 1800x500 with 3 Axes>"
      ],
      "image/png": "[encoded data removed]"
     },
     "metadata": {},
     "output_type": "display_data"
    }
   ],
   "execution_count": 30
  },
  {
   "metadata": {},
   "cell_type": "markdown",
   "source": [
    "##### Key Features Distinguishing AI-Generated and Human-Written Code\n",
    "\n",
    "- The top feature on the plot is `code_length`, meaning it has the highest importance in classification.\n",
    "- Features like `num_loops`, `complexity_score`, and `num_imports` also have relatively high importance, meaning they are significant in differentiating AI and human code.\n",
    "- Features at the bottom of the list (e.g., `execution_time`, `num_variables`, `use_of_lambda`) have low importance, meaning they don’t contribute much to distinguishing the two types of code.\n",
    "\n",
    "**Additional Insights:**\n",
    "- **Code Length:** AI-generated code is generally shorter compared to human-written code, which suggests that AI code might be more concise.\n",
    "- **Complexity:** AI-generated code shows higher `complexity_score`, implying that while code is shorter, it may employ more complex logic or structures\n",
    "- **Execution time:** The difference in `execution_time` between AI and human-written code is minimal, with no significant impact on distinguishing the two types.\n",
    "\n",
    "**Conclusion:** AI and human code differ most in length, number of loops, and complexity score, as these features have the highest importance in classification.\n",
    "\n",
    "While `execution_time` has low importance in distinguishing AI from human code, it remains a valuable metric for understanding efficiency differences between AI and human-written code."
   ],
   "id": "368c8ddd30308e72"
  },
  {
   "metadata": {},
   "cell_type": "markdown",
   "source": [
    "## Deployment\n",
    "\n",
    "Model would be deployed as a web application where users can input code snippets and get predictions on whether the code is AI-generated or human-written. The application would also provide insights into the features that contributed most to the classification.\n",
    "\n",
    "This tool might be particularly useful for educational institutions where AI-generated code is not permitted in assignments, helping educators ensure academic integrity."
   ],
   "id": "8fda138233af4d37"
  },
  {
   "metadata": {},
   "cell_type": "markdown",
   "source": [
    "#### Model deployment application\n",
    "\n",
    "Here is example of app that can take code snippet in, extract features and predict if it is AI-generated or human-written."
   ],
   "id": "4e9bd332c9564c58"
  },
  {
   "metadata": {},
   "cell_type": "markdown",
   "source": [
    "##### Snippet runner and helper function\n",
    "\n",
    "First code block below has snippet runner and helper function for parsing snippet to runnable code so script can measure execution time of snippet."
   ],
   "id": "c5ef307df4fd14b8"
  },
  {
   "metadata": {
    "ExecuteTime": {
     "end_time": "2025-03-03T18:37:29.397815Z",
     "start_time": "2025-03-03T18:37:29.385812Z"
    }
   },
   "cell_type": "code",
   "source": [
    "import re\n",
    "import time\n",
    "\n",
    "\n",
    "def ensure_newline_after_functions(code_snippet):\n",
    "\n",
    "    # Pattern to match function definitions without a newline after them\n",
    "    pattern = r'(\\bdef\\s+\\w+\\s*\\(.*\\):)([^\\n])'\n",
    "\n",
    "    # Add a newline after function definitions if not present\n",
    "    modified = re.sub(pattern, r'\\1\\n\\2', code_snippet)\n",
    "    return modified\n",
    "\n",
    "def snippet_runner(sample):\n",
    "    # Regex pattern to find if sample is defined as function\n",
    "    function_pattern = r'def\\s+(\\w+)\\s*\\(([^)]*)\\):'\n",
    "    match = re.search(function_pattern, sample)\n",
    "\n",
    "    # If sample is callable function\n",
    "    if match:\n",
    "        function_name = match.group(1)\n",
    "        params_str = match.group(2).strip()\n",
    "\n",
    "        # If sample has parameters\n",
    "        if params_str:\n",
    "            # Split parameters\n",
    "            params = [p.strip().split('=')[0].strip() for p in params_str.split(',')]\n",
    "\n",
    "            # Create test values from 300 with increment of 1 and join them in args\n",
    "            test_values = [str(300 + i) for i in range(len(params))]\n",
    "            args = ', '.join(test_values)\n",
    "\n",
    "            # Create a modified version of the code with a function call with parameters\n",
    "            code_to_execute = sample + f\"\\nresult = {function_name}({args})\"\n",
    "\n",
    "            # Make sure there is newline after function in sample code\n",
    "            sample = ensure_newline_after_functions(code_to_execute)\n",
    "\n",
    "            # Start taking time and execute code\n",
    "            start_time = time.perf_counter_ns()\n",
    "            exec(sample)\n",
    "            end_time = time.perf_counter_ns()\n",
    "\n",
    "            # Return execution time\n",
    "            return end_time - start_time\n",
    "        else:\n",
    "            # Handle functions with no parameters\n",
    "            function_call = f'\\nresult = {function_name}()'\n",
    "\n",
    "            # Add function call to sample\n",
    "            sample += function_call\n",
    "\n",
    "            # Start timing and execution\n",
    "            start_time = time.perf_counter_ns()\n",
    "            exec(sample)\n",
    "            end_time = time.perf_counter_ns()\n",
    "            return end_time - start_time\n",
    "    else:\n",
    "        # Handle non callable functions\n",
    "        start_time = time.perf_counter_ns()\n",
    "        exec(sample)\n",
    "        end_time = time.perf_counter_ns()\n",
    "        return end_time - start_time\n",
    "\n"
   ],
   "id": "9e685cad4b09f95",
   "outputs": [],
   "execution_count": 31
  },
  {
   "metadata": {},
   "cell_type": "markdown",
   "source": [
    "##### Prediction of code samples\n",
    "\n",
    "There are two code samples at end of this block `example_code_copilot` and `example_code_human`. We predict those both codes with our model and print out the results in the end."
   ],
   "id": "7f51443224b0621a"
  },
  {
   "metadata": {
    "ExecuteTime": {
     "end_time": "2025-03-03T18:37:29.443816Z",
     "start_time": "2025-03-03T18:37:29.412810Z"
    }
   },
   "cell_type": "code",
   "source": [
    "# Calculate features helper function\n",
    "def extract_features(code_snippet):\n",
    "    features = {\n",
    "        'code_length': len(code_snippet),\n",
    "        'num_functions': code_snippet.count('def '),\n",
    "        'num_variables': len(re.findall(r'=\\s*\\w+', code_snippet)),\n",
    "        'num_imports': code_snippet.count('import '),\n",
    "        'use_of_recursion': 1 if re.search(r'def\\s+(\\w+).*\\1\\s*\\(', code_snippet) else 0,\n",
    "        'use_of_lambda': 1 if 'lambda' in code_snippet else 0,\n",
    "        'num_loops': code_snippet.count('for ') + code_snippet.count('while '),\n",
    "        'complexity_score': (code_snippet.count('for ') + code_snippet.count('while ') +\n",
    "                            code_snippet.count('if ') + code_snippet.count('elif ') +\n",
    "                            code_snippet.count('else:')),\n",
    "        'execution_time': snippet_runner(code_snippet)/1000000, # Convert nanoseconds to milliseconds\n",
    "    }\n",
    "    new_entry = pd.DataFrame([features])\n",
    "    return new_entry\n",
    "\n",
    "# Function to predict origin of code snippet\n",
    "def predict_code_origin(code_snippet, ml_model, scaler):\n",
    "\n",
    "    # Extract features with helper function\n",
    "    features = extract_features(code_snippet)\n",
    "\n",
    "    # Scale features\n",
    "    features_scaled = pd.DataFrame(scaler.transform(features), columns=features.columns)\n",
    "\n",
    "    # Predict snippet sample\n",
    "    prediction = ml_model.predict(features_scaled)[0]\n",
    "    probability = ml_model.predict_proba(features_scaled)[0]\n",
    "\n",
    "    return {\n",
    "        'prediction': 'AI-generated' if prediction == 1 else 'Human-written',\n",
    "        'confidence': probability[prediction]\n",
    "    }\n",
    "\n",
    "# Example snippet from Copilot\n",
    "example_code_copilot = \"\"\"\n",
    "x = lambda a, b: a + b\n",
    "x(3, 4)\n",
    "\"\"\"\n",
    "\n",
    "# Sample snippet that converts celsius to fahrenheit\n",
    "example_code_human = \"\"\"\n",
    "def convert_cel_to_fah(c):\n",
    "    return c * 9/5 + 32\n",
    "\"\"\"\n",
    "\n",
    "print('---------------------Results of prediction----------------------\\n')\n",
    "# Testing Copilot fibonacci function\n",
    "result = predict_code_origin(example_code_copilot, model, scaler)\n",
    "print(f\"Code example_code_copilot  is predicted to be: {result['prediction']}\")\n",
    "print(f\"Confidence: {result['confidence']:.2f}\")\n",
    "\n",
    "# Test for human written snippet\n",
    "result = predict_code_origin(example_code_human, model, scaler)\n",
    "print(f\"\\nCode example_code_human is predicted to be: {result['prediction']}\")\n",
    "print(f\"Confidence: {result['confidence']:.2f}\")"
   ],
   "id": "e64a12c2719f0670",
   "outputs": [
    {
     "name": "stdout",
     "output_type": "stream",
     "text": [
      "---------------------Results of prediction----------------------\n",
      "\n",
      "Code example_code_copilot  is predicted to be: AI-generated\n",
      "Confidence: 0.89\n",
      "\n",
      "Code example_code_human is predicted to be: Human-written\n",
      "Confidence: 0.65\n"
     ]
    }
   ],
   "execution_count": 32
  }
 ],
 "metadata": {
  "kernelspec": {
   "display_name": "Python 3",
   "language": "python",
   "name": "python3"
  },
  "language_info": {
   "codemirror_mode": {
    "name": "ipython",
    "version": 2
   },
   "file_extension": ".py",
   "mimetype": "text/x-python",
   "name": "python",
   "nbconvert_exporter": "python",
   "pygments_lexer": "ipython2",
   "version": "2.7.6"
  }
 },
 "nbformat": 4,
 "nbformat_minor": 5
}
